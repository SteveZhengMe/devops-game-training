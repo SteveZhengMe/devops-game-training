{
 "cells": [
  {
   "cell_type": "code",
   "execution_count": 1,
   "metadata": {
    "scrolled": true
   },
   "outputs": [
    {
     "output_type": "execute_result",
     "data": {
      "text/plain": [
       "        user id        session start          session end\n",
       "0         60509  2021-01-01 07:00:00  2021-01-01 10:52:00\n",
       "1         60509  2021-01-02 07:00:00  2021-01-02 08:18:00\n",
       "2         60509  2021-01-02 08:18:17  2021-01-02 09:38:17\n",
       "3         60509  2021-01-02 13:31:50  2021-01-02 14:59:50\n",
       "4         60509  2021-01-03 07:00:00  2021-01-03 10:50:00\n",
       "...         ...                  ...                  ...\n",
       "233003    25366  2021-01-29 07:00:00  2021-01-29 08:02:00\n",
       "233004    25366  2021-01-29 08:47:04  2021-01-29 09:44:04\n",
       "233005    25366  2021-01-30 07:00:00  2021-01-30 09:04:00\n",
       "233006    25366  2021-01-31 07:00:00  2021-01-31 07:54:00\n",
       "233007    25366  2021-01-31 08:27:54  2021-01-31 09:20:54\n",
       "\n",
       "[227163 rows x 3 columns]"
      ],
      "text/html": "<div>\n<style scoped>\n    .dataframe tbody tr th:only-of-type {\n        vertical-align: middle;\n    }\n\n    .dataframe tbody tr th {\n        vertical-align: top;\n    }\n\n    .dataframe thead th {\n        text-align: right;\n    }\n</style>\n<table border=\"1\" class=\"dataframe\">\n  <thead>\n    <tr style=\"text-align: right;\">\n      <th></th>\n      <th>user id</th>\n      <th>session start</th>\n      <th>session end</th>\n    </tr>\n  </thead>\n  <tbody>\n    <tr>\n      <th>0</th>\n      <td>60509</td>\n      <td>2021-01-01 07:00:00</td>\n      <td>2021-01-01 10:52:00</td>\n    </tr>\n    <tr>\n      <th>1</th>\n      <td>60509</td>\n      <td>2021-01-02 07:00:00</td>\n      <td>2021-01-02 08:18:00</td>\n    </tr>\n    <tr>\n      <th>2</th>\n      <td>60509</td>\n      <td>2021-01-02 08:18:17</td>\n      <td>2021-01-02 09:38:17</td>\n    </tr>\n    <tr>\n      <th>3</th>\n      <td>60509</td>\n      <td>2021-01-02 13:31:50</td>\n      <td>2021-01-02 14:59:50</td>\n    </tr>\n    <tr>\n      <th>4</th>\n      <td>60509</td>\n      <td>2021-01-03 07:00:00</td>\n      <td>2021-01-03 10:50:00</td>\n    </tr>\n    <tr>\n      <th>...</th>\n      <td>...</td>\n      <td>...</td>\n      <td>...</td>\n    </tr>\n    <tr>\n      <th>233003</th>\n      <td>25366</td>\n      <td>2021-01-29 07:00:00</td>\n      <td>2021-01-29 08:02:00</td>\n    </tr>\n    <tr>\n      <th>233004</th>\n      <td>25366</td>\n      <td>2021-01-29 08:47:04</td>\n      <td>2021-01-29 09:44:04</td>\n    </tr>\n    <tr>\n      <th>233005</th>\n      <td>25366</td>\n      <td>2021-01-30 07:00:00</td>\n      <td>2021-01-30 09:04:00</td>\n    </tr>\n    <tr>\n      <th>233006</th>\n      <td>25366</td>\n      <td>2021-01-31 07:00:00</td>\n      <td>2021-01-31 07:54:00</td>\n    </tr>\n    <tr>\n      <th>233007</th>\n      <td>25366</td>\n      <td>2021-01-31 08:27:54</td>\n      <td>2021-01-31 09:20:54</td>\n    </tr>\n  </tbody>\n</table>\n<p>227163 rows × 3 columns</p>\n</div>"
     },
     "metadata": {},
     "execution_count": 1
    }
   ],
   "source": [
    "import lib.ana_header as lib\n",
    "\n",
    "data = lib.ExploreData()\n",
    "\n",
    "data.sampleData()"
   ]
  },
  {
   "cell_type": "code",
   "execution_count": 2,
   "metadata": {},
   "outputs": [
    {
     "output_type": "execute_result",
     "data": {
      "text/plain": [
       "                    Session Duration (Minutes)\n",
       "Date       user id                            \n",
       "2021-01-01 20                             20.0\n",
       "           32                             27.0\n",
       "           72                             31.0\n",
       "           79                            241.0\n",
       "           99                            218.0\n",
       "...                                        ...\n",
       "2021-02-01 63526                          34.0\n",
       "           66376                          15.5\n",
       "           80348                          54.0\n",
       "           87100                          50.0\n",
       "           88662                          38.0\n",
       "\n",
       "[93009 rows x 1 columns]"
      ],
      "text/html": "<div>\n<style scoped>\n    .dataframe tbody tr th:only-of-type {\n        vertical-align: middle;\n    }\n\n    .dataframe tbody tr th {\n        vertical-align: top;\n    }\n\n    .dataframe thead th {\n        text-align: right;\n    }\n</style>\n<table border=\"1\" class=\"dataframe\">\n  <thead>\n    <tr style=\"text-align: right;\">\n      <th></th>\n      <th></th>\n      <th>Session Duration (Minutes)</th>\n    </tr>\n    <tr>\n      <th>Date</th>\n      <th>user id</th>\n      <th></th>\n    </tr>\n  </thead>\n  <tbody>\n    <tr>\n      <th rowspan=\"5\" valign=\"top\">2021-01-01</th>\n      <th>20</th>\n      <td>20.0</td>\n    </tr>\n    <tr>\n      <th>32</th>\n      <td>27.0</td>\n    </tr>\n    <tr>\n      <th>72</th>\n      <td>31.0</td>\n    </tr>\n    <tr>\n      <th>79</th>\n      <td>241.0</td>\n    </tr>\n    <tr>\n      <th>99</th>\n      <td>218.0</td>\n    </tr>\n    <tr>\n      <th>...</th>\n      <th>...</th>\n      <td>...</td>\n    </tr>\n    <tr>\n      <th rowspan=\"5\" valign=\"top\">2021-02-01</th>\n      <th>63526</th>\n      <td>34.0</td>\n    </tr>\n    <tr>\n      <th>66376</th>\n      <td>15.5</td>\n    </tr>\n    <tr>\n      <th>80348</th>\n      <td>54.0</td>\n    </tr>\n    <tr>\n      <th>87100</th>\n      <td>50.0</td>\n    </tr>\n    <tr>\n      <th>88662</th>\n      <td>38.0</td>\n    </tr>\n  </tbody>\n</table>\n<p>93009 rows × 1 columns</p>\n</div>"
     },
     "metadata": {},
     "execution_count": 2
    }
   ],
   "source": [
    "data.groupData()"
   ]
  },
  {
   "cell_type": "markdown",
   "metadata": {},
   "source": [
    "## Try Your Solution\n",
    "\n",
    "- Give a value to banner\n",
    "  - 1: More Exam\n",
    "  - 2: Night Mode\n",
    "  - 3: Leader Board"
   ]
  },
  {
   "cell_type": "code",
   "execution_count": 5,
   "metadata": {},
   "outputs": [
    {
     "output_type": "execute_result",
     "data": {
      "text/plain": [
       "'Total revenue is: $17870'"
      ]
     },
     "metadata": {},
     "execution_count": 5
    }
   ],
   "source": [
    "# Change the banner number\n",
    "#########################################\n",
    "\n",
    "banner = 2\n",
    "\n",
    "#########################################\n",
    "\n",
    "data.runSimulation(banner)"
   ]
  }
 ],
 "metadata": {
  "kernelspec": {
   "name": "python385jvsc74a57bd0cd9294101271bff597a6a5c28b184b310506ba9a380707734b9ed5ea1cec739c",
   "display_name": "Python 3.8.5 64-bit ('base': conda)"
  },
  "language_info": {
   "codemirror_mode": {
    "name": "ipython",
    "version": 3
   },
   "file_extension": ".py",
   "mimetype": "text/x-python",
   "name": "python",
   "nbconvert_exporter": "python",
   "pygments_lexer": "ipython3",
   "version": "3.8.5"
  }
 },
 "nbformat": 4,
 "nbformat_minor": 4
}